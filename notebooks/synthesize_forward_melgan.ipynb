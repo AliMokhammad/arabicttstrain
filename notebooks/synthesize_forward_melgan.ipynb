{
 "cells": [
  {
   "cell_type": "markdown",
   "metadata": {
    "colab_type": "text",
    "id": "zdMgfG7GMF_R"
   },
   "source": [
    "<center> \n",
    "    <h1> Transformer TTS: A Text-to-Speech Transformer in TensorFlow 2 </h1>\n",
    "    <h2> Audio synthesis with Forward Transformer TTS and MelGAN Vocoder</h2>\n",
    "</center>\n",
    "\n",
    "## Forward Model"
   ]
  },
  {
   "cell_type": "code",
   "execution_count": null,
   "metadata": {
    "colab": {
     "base_uri": "https://localhost:8080/",
     "height": 225
    },
    "colab_type": "code",
    "id": "JQ5YuFPAxXUy",
    "outputId": "23b61caa-9bc7-4bb8-b31b-0da6a029d6e6"
   },
   "outputs": [],
   "source": [
    "# Clone the Transformer TTS and MelGAN repos\n",
    "!git clone https://github.com/as-ideas/TransformerTTS.git\n",
    "!git clone https://github.com/seungwonpark/melgan.git"
   ]
  },
  {
   "cell_type": "code",
   "execution_count": null,
   "metadata": {
    "colab": {
     "base_uri": "https://localhost:8080/",
     "height": 1000
    },
    "colab_type": "code",
    "id": "9bIzkIGjMRwm",
    "outputId": "c078ee93-da4c-4c93-daf2-e092acd8b929"
   },
   "outputs": [],
   "source": [
    "# Install requirements\n",
    "!apt-get install -y espeak\n",
    "!pip install -r TransformerTTS/requirements.txt"
   ]
  },
  {
   "cell_type": "code",
   "execution_count": null,
   "metadata": {
    "colab": {
     "base_uri": "https://localhost:8080/",
     "height": 225
    },
    "colab_type": "code",
    "id": "cOxdx6L5Hjcf",
    "outputId": "e919b138-a9d4-431e-dcf6-873925e8f0a9"
   },
   "outputs": [],
   "source": [
    "!cd TransformerTTS/; git checkout c3405c53e435a06c809533aa4453923469081147"
   ]
  },
  {
   "cell_type": "code",
   "execution_count": null,
   "metadata": {
    "colab": {},
    "colab_type": "code",
    "id": "W3tlwOlRbABh"
   },
   "outputs": [],
   "source": [
    "# Set up the paths\n",
    "from pathlib import Path\n",
    "MelGAN_path = 'melgan/'\n",
    "TTS_path = 'TransformerTTS/'\n",
    "\n",
    "import sys\n",
    "sys.path.append(TTS_path)"
   ]
  },
  {
   "cell_type": "code",
   "execution_count": null,
   "metadata": {
    "colab": {
     "base_uri": "https://localhost:8080/",
     "height": 69
    },
    "colab_type": "code",
    "id": "LucwkAK1yEVq",
    "outputId": "c2000cef-7533-4e95-e1c0-93559a93aec4"
   },
   "outputs": [],
   "source": [
    "# Load pretrained model\n",
    "from model.factory import tts_ljspeech\n",
    "from data.audio import Audio\n",
    "\n",
    "model, config = tts_ljspeech()\n",
    "audio = Audio(config)"
   ]
  },
  {
   "cell_type": "code",
   "execution_count": null,
   "metadata": {
    "colab": {},
    "colab_type": "code",
    "id": "_5RKHIDQyZvo"
   },
   "outputs": [],
   "source": [
    "# Synthesize text\n",
    "sentence = 'Scientists at the CERN laboratory, say they have discovered a new particle.'\n",
    "out_normal = model.predict(sentence)"
   ]
  },
  {
   "cell_type": "code",
   "execution_count": null,
   "metadata": {
    "colab": {
     "base_uri": "https://localhost:8080/",
     "height": 62
    },
    "colab_type": "code",
    "id": "GXxdDHOAyZ6f",
    "outputId": "a5d611c2-316a-4aec-834b-93562b0f487a"
   },
   "outputs": [],
   "source": [
    "# Convert spectrogram to wav (with griffin lim)\n",
    "wav = audio.reconstruct_waveform(out_normal['mel'].numpy().T)"
   ]
  },
  {
   "cell_type": "code",
   "execution_count": null,
   "metadata": {
    "colab": {
     "base_uri": "https://localhost:8080/",
     "height": 62
    },
    "colab_type": "code",
    "id": "GXxdDHOAyZ6f",
    "outputId": "a5d611c2-316a-4aec-834b-93562b0f487a"
   },
   "outputs": [],
   "source": [
    "import IPython.display as ipd\n",
    "\n",
    "ipd.display(ipd.Audio(wav, rate=config['sampling_rate']))"
   ]
  },
  {
   "cell_type": "markdown",
   "metadata": {
    "colab_type": "text",
    "id": "uyidCx84bAB1"
   },
   "source": [
    "You can also vary the speech speed"
   ]
  },
  {
   "cell_type": "code",
   "execution_count": null,
   "metadata": {
    "colab": {
     "base_uri": "https://localhost:8080/",
     "height": 62
    },
    "colab_type": "code",
    "id": "_N3rM6qmbAB2",
    "outputId": "c68e3da8-e15d-431c-e377-c98457b83a52"
   },
   "outputs": [],
   "source": [
    "# 20% faster\n",
    "sentence = 'Scientists at the CERN laboratory, say they have discovered a new particle.'\n",
    "out = model.predict(sentence, speed_regulator=1.20)\n",
    "wav = audio.reconstruct_waveform(out['mel'].numpy().T)\n",
    "ipd.display(ipd.Audio(wav, rate=config['sampling_rate']))"
   ]
  },
  {
   "cell_type": "code",
   "execution_count": null,
   "metadata": {
    "colab": {
     "base_uri": "https://localhost:8080/",
     "height": 62
    },
    "colab_type": "code",
    "id": "QxAIl9LkbAB6",
    "outputId": "a8e0531e-268f-4fd4-8a55-2c7914cc67d6"
   },
   "outputs": [],
   "source": [
    "# 10% slower\n",
    "sentence = 'Scientists at the CERN laboratory, say they have discovered a new particle.'\n",
    "out = model.predict(sentence, speed_regulator=.9)\n",
    "wav = audio.reconstruct_waveform(out['mel'].numpy().T)\n",
    "ipd.display(ipd.Audio(wav, rate=config['sampling_rate']))"
   ]
  },
  {
   "cell_type": "markdown",
   "metadata": {
    "colab_type": "text",
    "id": "eZJo81viVus-"
   },
   "source": [
    "### MelGAN"
   ]
  },
  {
   "cell_type": "code",
   "execution_count": null,
   "metadata": {
    "colab": {
     "base_uri": "https://localhost:8080/",
     "height": 34
    },
    "colab_type": "code",
    "id": "WjIuQALHTr-R",
    "outputId": "503b1a50-b658-4f38-acd3-ed8346571f24"
   },
   "outputs": [],
   "source": [
    "# Do some sys cleaning\n",
    "sys.path.remove(TTS_path)\n",
    "sys.modules.pop('model')"
   ]
  },
  {
   "cell_type": "code",
   "execution_count": null,
   "metadata": {
    "colab": {
     "base_uri": "https://localhost:8080/",
     "height": 101,
     "referenced_widgets": [
      "d2d68febdf104697bbf2d4a7d132891a",
      "2820cb67ddb6435a9abc1b7252e7fe44",
      "a29f9e1975f248348c32254fe5b3d026",
      "b0b25d43cc6949d9b921d33984deea0f",
      "171439a16fba452a8fdab03a5711a6dc",
      "7b4b771dce304335933820d574f49e4f",
      "4c9a01915a2648f192071342e0cd3202",
      "90ad1e7188db4f98be3081554bb06cbc"
     ]
    },
    "colab_type": "code",
    "id": "L4gZZOgmbACF",
    "outputId": "d7d953a7-9fe5-44e3-c750-4327dcf3d541"
   },
   "outputs": [],
   "source": [
    "sys.path.append(MelGAN_path)\n",
    "import torch\n",
    "import numpy as np\n",
    "\n",
    "vocoder = torch.hub.load('seungwonpark/melgan', 'melgan')\n",
    "vocoder.eval()\n",
    "\n",
    "mel = torch.tensor(out_normal['mel'].numpy().T[np.newaxis,:,:])"
   ]
  },
  {
   "cell_type": "code",
   "execution_count": null,
   "metadata": {
    "colab": {},
    "colab_type": "code",
    "id": "iqXjJY_2bACJ"
   },
   "outputs": [],
   "source": [
    "if torch.cuda.is_available():\n",
    "    vocoder = vocoder.cuda()\n",
    "    mel = mel.cuda()\n",
    "\n",
    "with torch.no_grad():\n",
    "    audio = vocoder.inference(mel)"
   ]
  },
  {
   "cell_type": "code",
   "execution_count": null,
   "metadata": {
    "colab": {
     "base_uri": "https://localhost:8080/",
     "height": 62
    },
    "colab_type": "code",
    "id": "vQYaZawLXTJI",
    "outputId": "0137a959-76c6-4c2b-cf0d-87d68c585651"
   },
   "outputs": [],
   "source": [
    "# Display audio\n",
    "ipd.display(ipd.Audio(audio.cpu().numpy(), rate=22050))"
   ]
  }
 ],
 "metadata": {
  "accelerator": "GPU",
  "colab": {
   "collapsed_sections": [],
   "name": "synthesize_forward_melgan",
   "provenance": []
  },
  "kernelspec": {
   "display_name": "ttsTF",
   "language": "python",
   "name": "ttstf"
  },
  "language_info": {
   "codemirror_mode": {
    "name": "ipython",
    "version": 3
   },
   "file_extension": ".py",
   "mimetype": "text/x-python",
   "name": "python",
   "nbconvert_exporter": "python",
   "pygments_lexer": "ipython3",
   "version": "3.6.9"
  },
  "widgets": {
   "application/vnd.jupyter.widget-state+json": {
    "171439a16fba452a8fdab03a5711a6dc": {
     "model_module": "@jupyter-widgets/controls",
     "model_name": "ProgressStyleModel",
     "state": {
      "_model_module": "@jupyter-widgets/controls",
      "_model_module_version": "1.5.0",
      "_model_name": "ProgressStyleModel",
      "_view_count": null,
      "_view_module": "@jupyter-widgets/base",
      "_view_module_version": "1.2.0",
      "_view_name": "StyleView",
      "bar_color": null,
      "description_width": "initial"
     }
    },
    "2820cb67ddb6435a9abc1b7252e7fe44": {
     "model_module": "@jupyter-widgets/base",
     "model_name": "LayoutModel",
     "state": {
      "_model_module": "@jupyter-widgets/base",
      "_model_module_version": "1.2.0",
      "_model_name": "LayoutModel",
      "_view_count": null,
      "_view_module": "@jupyter-widgets/base",
      "_view_module_version": "1.2.0",
      "_view_name": "LayoutView",
      "align_content": null,
      "align_items": null,
      "align_self": null,
      "border": null,
      "bottom": null,
      "display": null,
      "flex": null,
      "flex_flow": null,
      "grid_area": null,
      "grid_auto_columns": null,
      "grid_auto_flow": null,
      "grid_auto_rows": null,
      "grid_column": null,
      "grid_gap": null,
      "grid_row": null,
      "grid_template_areas": null,
      "grid_template_columns": null,
      "grid_template_rows": null,
      "height": null,
      "justify_content": null,
      "justify_items": null,
      "left": null,
      "margin": null,
      "max_height": null,
      "max_width": null,
      "min_height": null,
      "min_width": null,
      "object_fit": null,
      "object_position": null,
      "order": null,
      "overflow": null,
      "overflow_x": null,
      "overflow_y": null,
      "padding": null,
      "right": null,
      "top": null,
      "visibility": null,
      "width": null
     }
    },
    "4c9a01915a2648f192071342e0cd3202": {
     "model_module": "@jupyter-widgets/controls",
     "model_name": "DescriptionStyleModel",
     "state": {
      "_model_module": "@jupyter-widgets/controls",
      "_model_module_version": "1.5.0",
      "_model_name": "DescriptionStyleModel",
      "_view_count": null,
      "_view_module": "@jupyter-widgets/base",
      "_view_module_version": "1.2.0",
      "_view_name": "StyleView",
      "description_width": ""
     }
    },
    "7b4b771dce304335933820d574f49e4f": {
     "model_module": "@jupyter-widgets/base",
     "model_name": "LayoutModel",
     "state": {
      "_model_module": "@jupyter-widgets/base",
      "_model_module_version": "1.2.0",
      "_model_name": "LayoutModel",
      "_view_count": null,
      "_view_module": "@jupyter-widgets/base",
      "_view_module_version": "1.2.0",
      "_view_name": "LayoutView",
      "align_content": null,
      "align_items": null,
      "align_self": null,
      "border": null,
      "bottom": null,
      "display": null,
      "flex": null,
      "flex_flow": null,
      "grid_area": null,
      "grid_auto_columns": null,
      "grid_auto_flow": null,
      "grid_auto_rows": null,
      "grid_column": null,
      "grid_gap": null,
      "grid_row": null,
      "grid_template_areas": null,
      "grid_template_columns": null,
      "grid_template_rows": null,
      "height": null,
      "justify_content": null,
      "justify_items": null,
      "left": null,
      "margin": null,
      "max_height": null,
      "max_width": null,
      "min_height": null,
      "min_width": null,
      "object_fit": null,
      "object_position": null,
      "order": null,
      "overflow": null,
      "overflow_x": null,
      "overflow_y": null,
      "padding": null,
      "right": null,
      "top": null,
      "visibility": null,
      "width": null
     }
    },
    "90ad1e7188db4f98be3081554bb06cbc": {
     "model_module": "@jupyter-widgets/base",
     "model_name": "LayoutModel",
     "state": {
      "_model_module": "@jupyter-widgets/base",
      "_model_module_version": "1.2.0",
      "_model_name": "LayoutModel",
      "_view_count": null,
      "_view_module": "@jupyter-widgets/base",
      "_view_module_version": "1.2.0",
      "_view_name": "LayoutView",
      "align_content": null,
      "align_items": null,
      "align_self": null,
      "border": null,
      "bottom": null,
      "display": null,
      "flex": null,
      "flex_flow": null,
      "grid_area": null,
      "grid_auto_columns": null,
      "grid_auto_flow": null,
      "grid_auto_rows": null,
      "grid_column": null,
      "grid_gap": null,
      "grid_row": null,
      "grid_template_areas": null,
      "grid_template_columns": null,
      "grid_template_rows": null,
      "height": null,
      "justify_content": null,
      "justify_items": null,
      "left": null,
      "margin": null,
      "max_height": null,
      "max_width": null,
      "min_height": null,
      "min_width": null,
      "object_fit": null,
      "object_position": null,
      "order": null,
      "overflow": null,
      "overflow_x": null,
      "overflow_y": null,
      "padding": null,
      "right": null,
      "top": null,
      "visibility": null,
      "width": null
     }
    },
    "a29f9e1975f248348c32254fe5b3d026": {
     "model_module": "@jupyter-widgets/controls",
     "model_name": "FloatProgressModel",
     "state": {
      "_dom_classes": [],
      "_model_module": "@jupyter-widgets/controls",
      "_model_module_version": "1.5.0",
      "_model_name": "FloatProgressModel",
      "_view_count": null,
      "_view_module": "@jupyter-widgets/controls",
      "_view_module_version": "1.5.0",
      "_view_name": "ProgressView",
      "bar_style": "success",
      "description": "100%",
      "description_tooltip": null,
      "layout": "IPY_MODEL_7b4b771dce304335933820d574f49e4f",
      "max": 17090302,
      "min": 0,
      "orientation": "horizontal",
      "style": "IPY_MODEL_171439a16fba452a8fdab03a5711a6dc",
      "value": 17090302
     }
    },
    "b0b25d43cc6949d9b921d33984deea0f": {
     "model_module": "@jupyter-widgets/controls",
     "model_name": "HTMLModel",
     "state": {
      "_dom_classes": [],
      "_model_module": "@jupyter-widgets/controls",
      "_model_module_version": "1.5.0",
      "_model_name": "HTMLModel",
      "_view_count": null,
      "_view_module": "@jupyter-widgets/controls",
      "_view_module_version": "1.5.0",
      "_view_name": "HTMLView",
      "description": "",
      "description_tooltip": null,
      "layout": "IPY_MODEL_90ad1e7188db4f98be3081554bb06cbc",
      "placeholder": "​",
      "style": "IPY_MODEL_4c9a01915a2648f192071342e0cd3202",
      "value": " 16.3M/16.3M [00:00&lt;00:00, 91.6MB/s]"
     }
    },
    "d2d68febdf104697bbf2d4a7d132891a": {
     "model_module": "@jupyter-widgets/controls",
     "model_name": "HBoxModel",
     "state": {
      "_dom_classes": [],
      "_model_module": "@jupyter-widgets/controls",
      "_model_module_version": "1.5.0",
      "_model_name": "HBoxModel",
      "_view_count": null,
      "_view_module": "@jupyter-widgets/controls",
      "_view_module_version": "1.5.0",
      "_view_name": "HBoxView",
      "box_style": "",
      "children": [
       "IPY_MODEL_a29f9e1975f248348c32254fe5b3d026",
       "IPY_MODEL_b0b25d43cc6949d9b921d33984deea0f"
      ],
      "layout": "IPY_MODEL_2820cb67ddb6435a9abc1b7252e7fe44"
     }
    }
   }
  }
 },
 "nbformat": 4,
 "nbformat_minor": 1
}
